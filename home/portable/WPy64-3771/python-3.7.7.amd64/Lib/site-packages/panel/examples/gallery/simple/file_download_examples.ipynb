{
 "cells": [
  {
   "cell_type": "markdown",
   "metadata": {},
   "source": [
    "# File Download Example\n",
    "\n",
    "The **purpose** of this notebook is to provide code examples and **code snippets** that enable you to quickly add FileDownload to your Panel dashboard or application.\n",
    "\n",
    "This notebook was originally contributed because I had problems creating the right code to enable downloading DataFrames in `xlsx` format. See [FileDownload widget produces empty file for dataframe](https://github.com/holoviz/panel/issues/1241)."
   ]
  },
  {
   "cell_type": "code",
   "execution_count": null,
   "metadata": {},
   "outputs": [],
   "source": [
    "import pandas as pd\n",
    "import panel as pn\n",
    "from io import BytesIO\n",
    "\n",
    "pn.extension()"
   ]
  },
  {
   "cell_type": "markdown",
   "metadata": {},
   "source": [
    "## Source: DataFrame"
   ]
  },
  {
   "cell_type": "markdown",
   "metadata": {},
   "source": [
    "### File: XLSX\n",
    "\n",
    "Please note you need to have the packages\n",
    "\n",
    "- [XlsxWriter](https://xlsxwriter.readthedocs.io/index.html)\n",
    "- [OpenPyXL](https://openpyxl.readthedocs.io/en/stable/)\n",
    "\n",
    "installed for being able to use the `.to_excel` method of a DataFrame."
   ]
  },
  {
   "cell_type": "code",
   "execution_count": null,
   "metadata": {},
   "outputs": [],
   "source": [
    "data=pd.DataFrame({\"a\": [1]})\n",
    "\n",
    "def get_file():\n",
    "    output = BytesIO()\n",
    "    writer = pd.ExcelWriter(output, engine='xlsxwriter')\n",
    "    data.to_excel(writer, sheet_name=\"Data\")\n",
    "    writer.save() # Important!\n",
    "    output.seek(0) # Important!\n",
    "    return output\n",
    "\n",
    "file_download = pn.widgets.FileDownload(filename=\"data.xlsx\", callback=get_file)\n",
    "file_download"
   ]
  },
  {
   "cell_type": "markdown",
   "metadata": {},
   "source": [
    "## Contributions\n",
    "\n",
    "Example Contributions are very welcome. For example for `DataFrame` to `csv`, `parquet` and `json`."
   ]
  },
  {
   "cell_type": "markdown",
   "metadata": {},
   "source": [
    "## Credits\n",
    "\n",
    "- [Marc Skov Madsen](https://datamodelsanalytics.com)"
   ]
  }
 ],
 "metadata": {
  "language_info": {
   "name": "python",
   "pygments_lexer": "ipython3"
  }
 },
 "nbformat": 4,
 "nbformat_minor": 4
}
