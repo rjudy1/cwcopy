{
 "cells": [
  {
   "cell_type": "code",
   "execution_count": null,
   "metadata": {},
   "outputs": [],
   "source": [
    "import panel as pn\n",
    "import pandas as pd\n",
    "import hvplot.pandas"
   ]
  },
  {
   "cell_type": "markdown",
   "metadata": {},
   "source": [
    "Defer loading of the data and populating the widgets until the page is rendered:"
   ]
  },
  {
   "cell_type": "code",
   "execution_count": null,
   "metadata": {},
   "outputs": [],
   "source": [
    "stocks_url = 'https://raw.githubusercontent.com/vega/datalib/master/test/data/stocks.csv'\n",
    "\n",
    "select_ticker = pn.widgets.Select(name='Stock Ticker')\n",
    "\n",
    "def load_data():\n",
    "    if 'stocks' not in pn.state.cache: \n",
    "        pn.state.cache['stocks'] = df = pd.read_csv(stocks_url, parse_dates=['date']).set_index('symbol')\n",
    "    else:\n",
    "        df = pn.state.cache['stocks']\n",
    "    symbols = list(df.index.unique())\n",
    "    select_ticker.options = symbols\n",
    "    select_ticker.value = symbols[0]\n",
    "    \n",
    "pn.state.onload(load_data)"
   ]
  },
  {
   "cell_type": "markdown",
   "metadata": {},
   "source": [
    "If `'stocks'` is not yet in cache we show a spinner widget, otherwise let us plot the data:"
   ]
  },
  {
   "cell_type": "code",
   "execution_count": null,
   "metadata": {},
   "outputs": [],
   "source": [
    "@pn.depends(select_ticker)\n",
    "def plot_ticker(ticker):\n",
    "    if 'stocks' not in pn.state.cache or not ticker:\n",
    "        return pn.indicators.LoadingSpinner(value=True)\n",
    "    return pn.state.cache['stocks'].loc[ticker].hvplot.line('date', 'price')\n",
    "\n",
    "pn.Row(select_ticker, plot_ticker).servable()"
   ]
  }
 ],
 "metadata": {
  "language_info": {
   "name": "python",
   "pygments_lexer": "ipython3"
  }
 },
 "nbformat": 4,
 "nbformat_minor": 4
}
